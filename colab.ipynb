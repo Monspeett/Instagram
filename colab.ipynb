{
  "cells": [
    {
      "cell_type": "markdown",
      "metadata": {
        "id": "view-in-github",
        "colab_type": "text"
      },
      "source": [
        "<a href=\"https://colab.research.google.com/github/Monspeett/Instagram/blob/main/colab.ipynb\" target=\"_parent\"><img src=\"https://colab.research.google.com/assets/colab-badge.svg\" alt=\"Open In Colab\"/></a>"
      ]
    },
    {
      "cell_type": "code",
      "execution_count": 3,
      "metadata": {
        "id": "VjYy0F2gZIPR",
        "outputId": "f90c5147-6770-4229-bba9-c65e1247055a",
        "colab": {
          "base_uri": "https://localhost:8080/"
        }
      },
      "outputs": [
        {
          "output_type": "stream",
          "name": "stdout",
          "text": [
            "/content\n",
            "fatal: destination path 'Fooocus-MRE' already exists and is not an empty directory.\n",
            "/content/Fooocus-MRE\n",
            "Requirement already satisfied: pygit2==1.12.2 in /usr/local/lib/python3.11/dist-packages (1.12.2)\n",
            "Requirement already satisfied: cffi>=1.9.1 in /usr/local/lib/python3.11/dist-packages (from pygit2==1.12.2) (1.17.1)\n",
            "Requirement already satisfied: pycparser in /usr/local/lib/python3.11/dist-packages (from cffi>=1.9.1->pygit2==1.12.2) (2.22)\n",
            "Already up-to-date\n",
            "Update succeeded.\n",
            "Python 3.11.13 (main, Jun  4 2025, 08:57:29) [GCC 11.4.0]\n",
            "Fooocus version: 2.0.78.5 MRE\n",
            "Inference Engine exists.\n",
            "Inference Engine checkout finished.\n",
            "Installing requirements\n",
            "Couldn't install requirements.\n",
            "Command: \"/usr/bin/python3\" -m pip install -r \"requirements_versions.txt\" --prefer-binary\n",
            "Error code: 1\n",
            "stdout: Collecting torchsde==0.2.5 (from -r requirements_versions.txt (line 1))\n",
            "  Using cached torchsde-0.2.5-py3-none-any.whl.metadata (748 bytes)\n",
            "\n",
            "stderr: WARNING: Ignoring version 0.2.5 of torchsde since it has invalid metadata:\n",
            "Requested torchsde==0.2.5 from https://files.pythonhosted.org/packages/73/8d/efd3e7b31ea854d0bd6886aa3cf44914adce113a6d460850af41ac1dd4dd/torchsde-0.2.5-py3-none-any.whl (from -r requirements_versions.txt (line 1)) has invalid metadata: .* suffix can only be used with `==` or `!=` operators\n",
            "    numpy (>=1.19.*) ; python_version >= \"3.7\"\n",
            "           ~~~~~~~^\n",
            "Please use pip<24.1 if you need to use this version.\n",
            "ERROR: Could not find a version that satisfies the requirement torchsde==0.2.5 (from versions: 0.2.5, 0.2.6)\n",
            "ERROR: No matching distribution found for torchsde==0.2.5\n",
            "\n",
            "CMD Failed requirements: install -r \"requirements_versions.txt\"\n",
            "Traceback (most recent call last):\n",
            "  File \"/content/Fooocus-MRE/entry_with_update.py\", line 46, in <module>\n",
            "    from launch import *\n",
            "  File \"/content/Fooocus-MRE/launch.py\", line 147, in <module>\n",
            "    from webui import *\n",
            "  File \"/content/Fooocus-MRE/webui.py\", line 12, in <module>\n",
            "    import modules.gradio_hijack as grh\n",
            "  File \"/content/Fooocus-MRE/modules/gradio_hijack.py\", line 18, in <module>\n",
            "    from gradio.components.base import IOComponent, _Keywords\n",
            "ImportError: cannot import name 'IOComponent' from 'gradio.components.base' (/usr/local/lib/python3.11/dist-packages/gradio/components/base.py)\n"
          ]
        }
      ],
      "source": [
        "%cd /content\n",
        "!git clone https://github.com/MoonRide303/Fooocus-MRE.git\n",
        "%cd Fooocus-MRE\n",
        "!cp settings-no-refiner.json settings.json\n",
        "!pip install pygit2==1.12.2\n",
        "!python entry_with_update.py --share\n"
      ]
    }
  ],
  "metadata": {
    "accelerator": "GPU",
    "colab": {
      "gpuType": "T4",
      "provenance": [],
      "include_colab_link": true
    },
    "kernelspec": {
      "display_name": "Python 3",
      "name": "python3"
    },
    "language_info": {
      "name": "python"
    }
  },
  "nbformat": 4,
  "nbformat_minor": 0
}